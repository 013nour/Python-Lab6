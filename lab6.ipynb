{
 "cells": [
  {
   "cell_type": "markdown",
   "id": "82caa469-72e5-419b-9aec-e17b15de5e7c",
   "metadata": {},
   "source": [
    "Lists\n",
    "\n",
    "Given the following list : [5, 4, 17, 19, 30, 2, 7, 10, 45]\n",
    "\n",
    "Q1: Write a Python program to sum all the items in the list.\n",
    "Q2: Write a Python program to get the largest number from the list.\n",
    "Q3: Use list comprehension, create a new list from the above list containing only even numbers.\n",
    "Q4: Use list slicing to get a new list from the previous list starting from the start to the 5th element in the list."
   ]
  },
  {
   "cell_type": "code",
   "execution_count": 3,
   "id": "50088d77-cb0e-4f3d-ae79-3ae601a99b81",
   "metadata": {
    "tags": []
   },
   "outputs": [
    {
     "name": "stdout",
     "output_type": "stream",
     "text": [
      "139\n",
      "45\n",
      "[4, 30, 2, 10]\n",
      "[4, 30, 2, 10]\n"
     ]
    }
   ],
   "source": [
    "mylist = [5, 4, 17, 19, 30, 2, 7, 10, 45]\n",
    "\n",
    "print(sum(mylist))\n",
    "print (max(mylist))\n",
    "\n",
    "evens = [i for i in mylist if i%2 == 0]\n",
    "\n",
    "print(evens)\n",
    "\n",
    "newlist = evens[:6]\n",
    "\n",
    "print(newlist)"
   ]
  }
 ],
 "metadata": {
  "kernelspec": {
   "display_name": "Python 3 (ipykernel)",
   "language": "python",
   "name": "python3"
  },
  "language_info": {
   "codemirror_mode": {
    "name": "ipython",
    "version": 3
   },
   "file_extension": ".py",
   "mimetype": "text/x-python",
   "name": "python",
   "nbconvert_exporter": "python",
   "pygments_lexer": "ipython3",
   "version": "3.11.5"
  }
 },
 "nbformat": 4,
 "nbformat_minor": 5
}
